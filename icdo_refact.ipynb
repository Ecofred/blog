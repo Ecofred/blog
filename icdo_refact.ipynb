{
    "metadata": {
        "kernelspec": {
            "name": "SQL",
            "display_name": "SQL",
            "language": "sql"
        },
        "language_info": {
            "name": "sql",
            "version": ""
        }
    },
    "nbformat_minor": 2,
    "nbformat": 4,
    "cells": [
        {
            "cell_type": "markdown",
            "source": [
                "# The start\n",
                ""
            ],
            "metadata": {
                "azdata_cell_guid": "f69108f9-7906-4034-9e07-ddac3b33a6dd"
            }
        },
        {
            "cell_type": "code",
            "source": [
                "USE master;\n",
                "GO\n",
                "DROP DATABASE IF EXISTS alt;\n",
                "GO\n",
                "CREATE DATABASE alt;\n",
                "GO\n",
                "USE alt;\n",
                "GO\n",
                "CREATE SCHEMA alt;\n",
                "GO"
            ],
            "metadata": {
                "azdata_cell_guid": "b847e9fa-7250-4779-a4fc-5cbbb076f8de",
                "tags": []
            },
            "outputs": [
{
    "output_type": "display_data",
    "data": {
        "text/html": "Commands completed successfully."
    },
    "metadata": {}
}, {
    "output_type": "display_data",
    "data": {
        "text/html": "Commands completed successfully."
    },
    "metadata": {}
}, {
    "output_type": "display_data",
    "data": {
        "text/html": "Commands completed successfully."
    },
    "metadata": {}
}, {
    "output_type": "display_data",
    "data": {
        "text/html": "Commands completed successfully."
    },
    "metadata": {}
}, {
    "output_type": "display_data",
    "data": {
        "text/html": "Commands completed successfully."
    },
    "metadata": {}
}, {
    "output_type": "display_data",
    "data": {
        "text/html": "Total execution time: 00:00:02.502"
    },
    "metadata": {}
}
],
            "execution_count": 53
        },
        {
            "cell_type": "markdown",
            "source": [
                "First table, no many things to change, just be sure that the\n",
                "version correspond to the format used until now. IF this should \n",
                "ever change... just drop/adapt it. but until that time let's play safe\n",
                "- make use of explicit types\n",
                "- meaningfull name version could be relevant somewhere else\n",
                "- CHECK for possible format"
            ],
            "metadata": {
                "azdata_cell_guid": "214460dc-2a81-4e53-9e8c-b1f9c9c17ca7"
            }
        },
        {
            "cell_type": "code",
            "source": [
                "-- use alt;\n",
                "-- GO\n",
                "CREATE type alt._icdo_version from int not null;\n",
                "    go\n",
                "\n",
                "CREATE TABLE alt.icdo_version\n",
                "(\n",
                "    icdo_version alt._icdo_version PRIMARY KEY CLUSTERED\n",
                "        check (icdo_version BETWEEN 1970 and 3000)\n",
                "    -- \n",
                "    -- ... more column on the meaning or meta info on the version\n",
                "    -- \n",
                ");\n",
                "    GO\n",
                "---------------------------------------------\n",
                "insert into alt.icdo_version\n",
                "values\n",
                "    (2011),\n",
                "    (2017);\n",
                "        GO"
            ],
            "metadata": {
                "azdata_cell_guid": "c176139b-591b-4092-a353-ba50918e4abe",
                "tags": []
            },
            "outputs": [
{
    "output_type": "display_data",
    "data": {
        "text/html": "Commands completed successfully."
    },
    "metadata": {}
}, {
    "output_type": "display_data",
    "data": {
        "text/html": "Commands completed successfully."
    },
    "metadata": {}
}, {
    "output_type": "display_data",
    "data": {
        "text/html": "(2 rows affected)"
    },
    "metadata": {}
}, {
    "output_type": "display_data",
    "data": {
        "text/html": "Total execution time: 00:00:00.072"
    },
    "metadata": {}
}
],
            "execution_count": 56
        },
        {
            "cell_type": "markdown",
            "source": [
                "Ready, defend your self!"
            ],
            "metadata": {
                "azdata_cell_guid": "8395f411-9d99-4a53-97e8-47963b625ab7"
            }
        },
        {
            "cell_type": "code",
            "source": [
                "-- use alt;\n",
                "-- PASS: unique version\n",
                "insert into alt.icdo_version\n",
                "values\n",
                "    (2011);\n",
                "-- PASS: no null\n",
                "insert into alt.icdo_version\n",
                "values\n",
                "    (NULL);\n",
                "-- PASS: version named after years\n",
                "insert into alt.icdo_version\n",
                "values\n",
                "    (42);\n",
                "            go"
            ],
            "metadata": {
                "azdata_cell_guid": "db0370af-5364-461d-b571-9b8d49cf9613",
                "tags": []
            },
            "outputs": [
{
    "output_type": "error",
    "evalue": "Msg 2627, Level 14, State 1, Line 3\nViolation of PRIMARY KEY constraint 'PK__icdo_ver__479EFC8FA2643FDE'. Cannot insert duplicate key in object 'alt.icdo_version'. The duplicate key value is (2011).",
    "ename": "",
    "traceback": []
}, {
    "output_type": "display_data",
    "data": {
        "text/html": "The statement has been terminated."
    },
    "metadata": {}
}, {
    "output_type": "error",
    "evalue": "Msg 515, Level 16, State 2, Line 7\nCannot insert the value NULL into column 'icdo_version', table 'alt.alt.icdo_version'; column does not allow nulls. INSERT fails.",
    "ename": "",
    "traceback": []
}, {
    "output_type": "display_data",
    "data": {
        "text/html": "The statement has been terminated."
    },
    "metadata": {}
}, {
    "output_type": "error",
    "evalue": "Msg 547, Level 16, State 0, Line 11\nThe INSERT statement conflicted with the CHECK constraint \"CK__icdo_vers__icdo___36B12243\". The conflict occurred in database \"alt\", table \"alt.icdo_version\", column 'icdo_version'.",
    "ename": "",
    "traceback": []
}, {
    "output_type": "display_data",
    "data": {
        "text/html": "The statement has been terminated."
    },
    "metadata": {}
}, {
    "output_type": "display_data",
    "data": {
        "text/html": "Total execution time: 00:00:00.012"
    },
    "metadata": {}
}
],
            "execution_count": 57
        },
        {
            "cell_type": "markdown",
            "source": [
                "This one is quite blund, but given the way we query this table\n",
                "we really rely on text, so away with the id... and less naming issue.\n",
                "- Clear name, because it could also be an icdo_morphologie code and they do not look  the same\n",
                "- Again use of type, and by default not empty\n",
                "- No more surrogate 'id' ... I admit that I may in the future reconsider this one\n",
                "  maybe it is a good idea to rely on ligth surrogate value\n",
                "... second table and no id!"
            ],
            "metadata": {
                "azdata_cell_guid": "cb940fe8-fa8c-42a7-8824-3911b24e947d"
            }
        },
        {
            "cell_type": "code",
            "source": [
                "create type alt._icdo_location_code from varchar(8) NOT NULL;\n",
                "GO\n",
                "\n",
                "CREATE TABLE alt.icdo_location\n",
                "(\n",
                "    -- -- get the id away from here\n",
                "    -- id   INT IDENTITY  NOT NULL PRIMARY KEY CLUSTERED,\n",
                "    icdo_location_code alt._icdo_location_code\n",
                "        PRIMARY KEY CLUSTERED\n",
                "        CHECK (icdo_location_code like '[CD][0-9][0-9]%')\n",
                "    -- later to be used in a varchar(8)\n",
                "    -- but here it contains 2 codes and one of them\n",
                ");\n",
                "GO\n",
                "insert into alt.icdo_location\n",
                "    (icdo_location_code)\n",
                "values\n",
                "    ('C11'),\n",
                "    ('C22.2'),\n",
                "    ('C99.4');\n",
                "GO"
            ],
            "metadata": {
                "azdata_cell_guid": "66579b05-e284-4479-8ad5-d1d0afae4700",
                "tags": []
            },
            "outputs": [
{
    "output_type": "display_data",
    "data": {
        "text/html": "Commands completed successfully."
    },
    "metadata": {}
}, {
    "output_type": "display_data",
    "data": {
        "text/html": "Commands completed successfully."
    },
    "metadata": {}
}, {
    "output_type": "display_data",
    "data": {
        "text/html": "(3 rows affected)"
    },
    "metadata": {}
}, {
    "output_type": "display_data",
    "data": {
        "text/html": "Total execution time: 00:00:00.063"
    },
    "metadata": {}
}
],
            "execution_count": 58
        },
        {
            "cell_type": "markdown",
            "source": [
                "Ready, hold on!"
            ],
            "metadata": {
                "azdata_cell_guid": "7c287229-ee63-4568-a4d7-412cedb97660"
            }
        },
        {
            "cell_type": "code",
            "source": [
                "-- PASS: Unique\n",
                "insert into alt.icdo_location\n",
                "    (icdo_location_code)\n",
                "select top 1\n",
                "    icdo_location_code\n",
                "from alt.icdo_location\n",
                "order by icdo_location_code asc;\n",
                "-- PASS: NON NULL\n",
                "insert into alt.icdo_location\n",
                "    (icdo_location_code)\n",
                "select NULL;\n",
                "-- PASS: Well formatted '[CD][0-9][0-9]%'\n",
                "insert into alt.icdo_location\n",
                "    (icdo_location_code)\n",
                "select 'bad format';\n",
                "-- PASS: Format ok\n",
                "insert into alt.icdo_location\n",
                "    (icdo_location_code)\n",
                "select 'badfmt';"
            ],
            "metadata": {
                "azdata_cell_guid": "8d987c90-1d97-4d51-8c39-f8b8283fa0df",
                "tags": []
            },
            "outputs": [
{
    "output_type": "error",
    "evalue": "Msg 2627, Level 14, State 1, Line 2\nViolation of PRIMARY KEY constraint 'PK__icdo_loc__640F8DB339E53C22'. Cannot insert duplicate key in object 'alt.icdo_location'. The duplicate key value is (C11).",
    "ename": "",
    "traceback": []
}, {
    "output_type": "display_data",
    "data": {
        "text/html": "The statement has been terminated."
    },
    "metadata": {}
}, {
    "output_type": "error",
    "evalue": "Msg 515, Level 16, State 2, Line 9\nCannot insert the value NULL into column 'icdo_location_code', table 'alt.alt.icdo_location'; column does not allow nulls. INSERT fails.",
    "ename": "",
    "traceback": []
}, {
    "output_type": "display_data",
    "data": {
        "text/html": "The statement has been terminated."
    },
    "metadata": {}
}, {
    "output_type": "error",
    "evalue": "Msg 8152, Level 16, State 30, Line 13\nString or binary data would be truncated.",
    "ename": "",
    "traceback": []
}, {
    "output_type": "display_data",
    "data": {
        "text/html": "The statement has been terminated."
    },
    "metadata": {}
}, {
    "output_type": "error",
    "evalue": "Msg 547, Level 16, State 0, Line 17\nThe INSERT statement conflicted with the CHECK constraint \"CK__icdo_loca__icdo___398D8EEE\". The conflict occurred in database \"alt\", table \"alt.icdo_location\", column 'icdo_location_code'.",
    "ename": "",
    "traceback": []
}, {
    "output_type": "display_data",
    "data": {
        "text/html": "The statement has been terminated."
    },
    "metadata": {}
}, {
    "output_type": "display_data",
    "data": {
        "text/html": "Total execution time: 00:00:00.010"
    },
    "metadata": {}
}
],
            "execution_count": 59
        },
        {
            "cell_type": "markdown",
            "source": [
                "This one is quite satisfactory. \n",
                "- DROP! we have so many values that it is not necessary to have\n",
                "  a 'text' building block. The text value is a function of code*version\n",
                "  skip and move!\n",
                "- no more stupid id name... hurray\n",
                "- less things to check... less error possible\n",
                "... na to be honest they we be moved to an other place"
            ],
            "metadata": {
                "azdata_cell_guid": "1bef40d6-89de-490b-b114-47fca8a4cf45"
            }
        },
        {
            "cell_type": "code",
            "source": [
                "/*\n",
                "--    CREATE TABLE alt.icdo_value (\n",
                "--        id    INT IDENTITY    NOT NULL PRIMARY KEY CLUSTERED,\n",
                "--        text  NVARCHAR (400) -- NULL and DUPLICATE allowed?\n",
                "--        );\n",
                "--        --------------------------------------------\n",
                "--        insert into alt.icdo_value(text)\n",
                "--            values ('C11/2011'), ('C22.2/2011'), ('C11/2017'), ('C99.4/2017');\n",
                "--            \n",
                "--            -- PASS ... no table: unique meaning, else what is the point of such a value catalog\n",
                "--            insert into alt.icdo_value(text) select top 1 text from alt.icdo_value order by id asc;\n",
                "--            -- PASS ... no table: a code as a meaning\n",
                "--            insert into alt.icdo_value(text) select NULL;\n",
                "*/"
            ],
            "metadata": {
                "azdata_cell_guid": "8d97a534-722a-4f99-a4cb-54d7128fd087",
                "tags": []
            },
            "outputs": [
{
    "output_type": "display_data",
    "data": {
        "text/html": "Commands completed successfully."
    },
    "metadata": {}
}, {
    "output_type": "display_data",
    "data": {
        "text/html": "Total execution time: 00:00:00.003"
    },
    "metadata": {}
}
],
            "execution_count": 46
        },
        {
            "cell_type": "markdown",
            "source": [
                "- Proper reference for the location and version\n",
                "- no stupid id...\n",
                "- appropriate and utterly explicit names"
            ],
            "metadata": {
                "azdata_cell_guid": "91cae153-d28d-497e-8900-5d684a209006"
            }
        },
        {
            "cell_type": "code",
            "source": [
                "CREATE TABLE alt.icdo_location_version_description\n",
                "(\n",
                "    icdo_version alt._icdo_version\n",
                "        FOREIGN KEY REFERENCES alt.icdo_version(icdo_version)\n",
                "                ON DELETE NO ACTION ON UPDATE CASCADE,\n",
                "    icdo_location_code alt._icdo_location_code\n",
                "        FOREIGN KEY REFERENCES alt.icdo_location(icdo_location_code) \n",
                "            ON DELETE NO ACTION ON UPDATE CASCADE,\n",
                "    -- on delete block. playing safe here\n",
                "    icdo_location_desc NVARCHAR (200) NOT NULL\n",
                "        check (icdo_location_desc <> ''),\n",
                "    -- not null\n",
                "    -- FOREIGN KEY REFERENCES alt.icdo_value(id) ON DELETE CASCADE ON UPDATE CASCADE,\n",
                "    -- no more needed! hurray!\n",
                "\n",
                "    PRIMARY KEY CLUSTERED (icdo_version, icdo_location_code)\n",
                "    -- Now this get us the value ~ code*version\n",
                "    -- Functionnal integrity in da place! \n",
                ");\n",
                "\n",
                "insert into alt.icdo_location_version_description\n",
                "    (icdo_version, icdo_location_code, icdo_location_desc)\n",
                "select v, c, cast(v as varchar(4)) + '/' + c + '  and blalbaetu'\n",
                "from (values\n",
                "        (2011, 'C11') ,\n",
                "        (2017, 'C11') ,\n",
                "        (2011, 'C22.2')  ,\n",
                "        (2017, 'C99.4')) as x(v,c)\n",
                "select *\n",
                "from alt.icdo_location_version_description;"
            ],
            "metadata": {
                "azdata_cell_guid": "48d2e87b-005f-4092-bac3-d5bceca8590b",
                "tags": []
            },
            "outputs": [
{
    "output_type": "display_data",
    "data": {
        "text/html": "(4 rows affected)"
    },
    "metadata": {}
}, {
    "output_type": "display_data",
    "data": {
        "text/html": "(4 rows affected)"
    },
    "metadata": {}
}, {
    "output_type": "display_data",
    "data": {
        "text/html": "Total execution time: 00:00:00.067"
    },
    "metadata": {}
}, {
    "output_type": "execute_result",
    "metadata": {},
    "execution_count": 32,
    "data": {
        "application/vnd.dataresource+json": {
            "schema": {
                "fields": [
                    {
                        "name": "icdo_version"
                    },
                    {
                        "name": "icdo_location_code"
                    },
                    {
                        "name": "icdo_location_desc"
                    }
                ]
            },
            "data": [
                {
                    "0": "2011",
                    "1": "C11",
                    "2": "2011/C11  and blalbaetu"
                },
                {
                    "0": "2011",
                    "1": "C22.2",
                    "2": "2011/C22.2  and blalbaetu"
                },
                {
                    "0": "2017",
                    "1": "C11",
                    "2": "2017/C11  and blalbaetu"
                },
                {
                    "0": "2017",
                    "1": "C99.4",
                    "2": "2017/C99.4  and blalbaetu"
                }
            ]
        },
        "text/html": [
            "<table>",
            "<tr><th>icdo_version</th><th>icdo_location_code</th><th>icdo_location_desc</th></tr>",
            "<tr><td>2011</td><td>C11</td><td>2011/C11  and blalbaetu</td></tr>",
            "<tr><td>2011</td><td>C22.2</td><td>2011/C22.2  and blalbaetu</td></tr>",
            "<tr><td>2017</td><td>C11</td><td>2017/C11  and blalbaetu</td></tr>",
            "<tr><td>2017</td><td>C99.4</td><td>2017/C99.4  and blalbaetu</td></tr>",
            "</table>"
        ]
    }
}
],
            "execution_count": 47
        },
        {
            "cell_type": "markdown",
            "source": [
                "Ready, Protect"
            ],
            "metadata": {
                "azdata_cell_guid": "2c877772-bda6-431b-a504-9da8c5d1e6bc"
            }
        },
        {
            "cell_type": "code",
            "source": [
                "\n",
                "-- PASS: code * version => text --\n",
                "insert into alt.icdo_location_version_description\n",
                "    (icdo_version, icdo_location_code, icdo_location_desc)\n",
                "select 2011, 'C11', '2011/C11 bis'\n",
                "-- PASS: \n",
                "insert into alt.icdo_location_version_description\n",
                "    (icdo_version, icdo_location_code, icdo_location_desc)\n",
                "select 2017, 'C22.2', NULL\n",
                "-- PASS: No Meaning Rejected\n",
                "insert into alt.icdo_location_version_description\n",
                "    (icdo_version, icdo_location_code, icdo_location_desc)\n",
                "select 2017, 'C22.2', N'          '\n",
                "insert into alt.icdo_location_version_description\n",
                "    (icdo_version, icdo_location_code, icdo_location_desc)\n",
                "select NULL, 'C22.2', N'no version'"
            ],
            "metadata": {
                "azdata_cell_guid": "a5931fb9-314b-4680-b6e5-17cb6e9e1771",
                "tags": []
            },
            "outputs": [
{
    "output_type": "error",
    "evalue": "Msg 2627, Level 14, State 1, Line 3\nViolation of PRIMARY KEY constraint 'PK__icdo_loc__61DE0454696C6B69'. Cannot insert duplicate key in object 'alt.icdo_location_version_description'. The duplicate key value is (2011, C11).",
    "ename": "",
    "traceback": []
}, {
    "output_type": "display_data",
    "data": {
        "text/html": "The statement has been terminated."
    },
    "metadata": {}
}, {
    "output_type": "error",
    "evalue": "Msg 515, Level 16, State 2, Line 7\nCannot insert the value NULL into column 'icdo_location_desc', table 'alt.alt.icdo_location_version_description'; column does not allow nulls. INSERT fails.",
    "ename": "",
    "traceback": []
}, {
    "output_type": "display_data",
    "data": {
        "text/html": "The statement has been terminated."
    },
    "metadata": {}
}, {
    "output_type": "error",
    "evalue": "Msg 547, Level 16, State 0, Line 11\nThe INSERT statement conflicted with the CHECK constraint \"CK__icdo_loca__icdo___3E52440B\". The conflict occurred in database \"alt\", table \"alt.icdo_location_version_description\", column 'icdo_location_desc'.",
    "ename": "",
    "traceback": []
}, {
    "output_type": "display_data",
    "data": {
        "text/html": "The statement has been terminated."
    },
    "metadata": {}
}, {
    "output_type": "error",
    "evalue": "Msg 515, Level 16, State 2, Line 14\nCannot insert the value NULL into column 'icdo_version', table 'alt.alt.icdo_location_version_description'; column does not allow nulls. INSERT fails.",
    "ename": "",
    "traceback": []
}, {
    "output_type": "display_data",
    "data": {
        "text/html": "The statement has been terminated."
    },
    "metadata": {}
}, {
    "output_type": "display_data",
    "data": {
        "text/html": "Total execution time: 00:00:00.022"
    },
    "metadata": {}
}
],
            "execution_count": 48
        },
        {
            "cell_type": "markdown",
            "source": [
                "Now to the dungeon"
            ],
            "metadata": {
                "azdata_cell_guid": "29c982e3-a59f-48b8-8575-a0ab05522e2e"
            }
        },
        {
            "cell_type": "code",
            "source": [
                "CREATE TABLE alt.diagnose\n",
                "(\n",
                "    diagnose_id INT IDENTITY NOT NULL PRIMARY KEY CLUSTERED,\n",
                "    -- we \n",
                "    patient_id INT NOT NULL,\n",
                "    -- FK/Ref Table removed for clarity\n",
                "    icd10_code VARCHAR (8)    ,\n",
                "    icdo_version alt._icdo_version,\n",
                "    icdo_location_code alt._icdo_location_code\n",
                "    -- now good! code and use are varchar(8)\n",
                "    -- hey... anyone ... I'm looking for FK here... no?\n",
                ");\n",
                "GO\n",
                "\n",
                "insert into alt.diagnose\n",
                "    (patient_id, icd10_code, icdo_location_code, icdo_version)\n",
                "select 99, 'd44', ichv.icdo_location_code , ichv.icdo_version\n",
                "from alt.icdo_location_version_description ichv\n",
                "select *\n",
                "from alt.diagnose; \n",
                "GO  \n",
                ""
            ],
            "metadata": {
                "azdata_cell_guid": "31112fbf-bf91-48d3-919c-bbf08d9739e1",
                "tags": []
            },
            "outputs": [
{
    "output_type": "display_data",
    "data": {
        "text/html": "Commands completed successfully."
    },
    "metadata": {}
}, {
    "output_type": "display_data",
    "data": {
        "text/html": "(4 rows affected)"
    },
    "metadata": {}
}, {
    "output_type": "display_data",
    "data": {
        "text/html": "(4 rows affected)"
    },
    "metadata": {}
}, {
    "output_type": "display_data",
    "data": {
        "text/html": "Total execution time: 00:00:00.048"
    },
    "metadata": {}
}, {
    "output_type": "execute_result",
    "metadata": {},
    "execution_count": 21,
    "data": {
        "application/vnd.dataresource+json": {
            "schema": {
                "fields": [
                    {
                        "name": "diagnose_id"
                    },
                    {
                        "name": "patient_id"
                    },
                    {
                        "name": "icd10_code"
                    },
                    {
                        "name": "icdo_version"
                    },
                    {
                        "name": "icdo_location_code"
                    }
                ]
            },
            "data": [
                {
                    "0": "1",
                    "1": "99",
                    "2": "d44",
                    "3": "2011",
                    "4": "C11"
                },
                {
                    "0": "2",
                    "1": "99",
                    "2": "d44",
                    "3": "2011",
                    "4": "C22.2"
                },
                {
                    "0": "3",
                    "1": "99",
                    "2": "d44",
                    "3": "2017",
                    "4": "C11"
                },
                {
                    "0": "4",
                    "1": "99",
                    "2": "d44",
                    "3": "2017",
                    "4": "C99.4"
                }
            ]
        },
        "text/html": [
            "<table>",
            "<tr><th>diagnose_id</th><th>patient_id</th><th>icd10_code</th><th>icdo_version</th><th>icdo_location_code</th></tr>",
            "<tr><td>1</td><td>99</td><td>d44</td><td>2011</td><td>C11</td></tr>",
            "<tr><td>2</td><td>99</td><td>d44</td><td>2011</td><td>C22.2</td></tr>",
            "<tr><td>3</td><td>99</td><td>d44</td><td>2017</td><td>C11</td></tr>",
            "<tr><td>4</td><td>99</td><td>d44</td><td>2017</td><td>C99.4</td></tr>",
            "</table>"
        ]
    }
}
],
            "execution_count": 49
        },
        {
            "cell_type": "markdown",
            "source": [
                "Bring the crone!"
            ],
            "metadata": {
                "azdata_cell_guid": "b1e6cf5e-d49c-4072-a94f-0a654fc97763"
            }
        },
        {
            "cell_type": "code",
            "source": [
                "ALTER TABLE alt.diagnose \n",
                "        ADD FOREIGN KEY (icdo_version, icdo_location_code) \n",
                "            REFERENCES alt.icdo_location_version_description(icdo_version, icdo_location_code);     \n",
                ""
            ],
            "metadata": {
                "azdata_cell_guid": "df84bb27-4d00-41df-98be-d7897ddd9a75",
                "tags": []
            },
            "outputs": [
{
    "output_type": "display_data",
    "data": {
        "text/html": "Commands completed successfully."
    },
    "metadata": {}
}, {
    "output_type": "display_data",
    "data": {
        "text/html": "Total execution time: 00:00:00.031"
    },
    "metadata": {}
}
],
            "execution_count": 50
        },
        {
            "cell_type": "markdown",
            "source": [
                "Ready, here is the final assault"
            ],
            "metadata": {
                "azdata_cell_guid": "f782acd7-a808-41aa-b8a3-d4764cb3d4bc"
            }
        },
        {
            "cell_type": "code",
            "source": [
                "\n",
                "-- PASS * 3: this can not be unknown at any place\n",
                "insert into alt.diagnose\n",
                "    (patient_id, icd10_code, icdo_location_code, icdo_version)\n",
                "select 99, 'd44', NULL, NULL;\n",
                "GO\n",
                "\n",
                "insert into alt.diagnose\n",
                "    (patient_id, icd10_code, icdo_location_code, icdo_version)\n",
                "select 99, 'd44', 2011, NULL;\n",
                "GO\n",
                "\n",
                "insert into alt.diagnose\n",
                "    (patient_id, icd10_code, icdo_location_code, icdo_version)\n",
                "select 99, 'd44', NULL, 'C11';\n",
                "GO\n",
                "\n",
                "-- PASS * 3\n",
                "-- Non allowed combination with non allowed code or value\n",
                "-- update without where... do not do this at home :)\n",
                "update alt.diagnose\n",
                "    set icdo_location_code = 'hell', icdo_version = 666;\n",
                "GO\n",
                "\n",
                "select * from alt.diagnose;\n",
                "GO\n",
                "\n",
                "-- PASS: unregistered combination on code and version\n",
                "insert into alt.diagnose\n",
                "    (patient_id, icd10_code, icdo_location_code, icdo_version)\n",
                "select 99, 'd44', 'C22.2', 2017;\n",
                "GO\n",
                "\n",
                ""
            ],
            "metadata": {
                "azdata_cell_guid": "3fe60aff-bc0d-4763-b12d-17adabcbc1c0",
                "tags": []
            },
            "outputs": [
{
    "output_type": "error",
    "evalue": "Msg 515, Level 16, State 2, Line 3\nCannot insert the value NULL into column 'icdo_location_code', table 'alt.alt.diagnose'; column does not allow nulls. INSERT fails.",
    "ename": "",
    "traceback": []
}, {
    "output_type": "display_data",
    "data": {
        "text/html": "The statement has been terminated."
    },
    "metadata": {}
}, {
    "output_type": "error",
    "evalue": "Msg 515, Level 16, State 2, Line 8\nCannot insert the value NULL into column 'icdo_version', table 'alt.alt.diagnose'; column does not allow nulls. INSERT fails.",
    "ename": "",
    "traceback": []
}, {
    "output_type": "display_data",
    "data": {
        "text/html": "The statement has been terminated."
    },
    "metadata": {}
}, {
    "output_type": "error",
    "evalue": "Msg 515, Level 16, State 2, Line 13\nCannot insert the value NULL into column 'icdo_location_code', table 'alt.alt.diagnose'; column does not allow nulls. INSERT fails.",
    "ename": "",
    "traceback": []
}, {
    "output_type": "display_data",
    "data": {
        "text/html": "The statement has been terminated."
    },
    "metadata": {}
}, {
    "output_type": "error",
    "evalue": "Msg 547, Level 16, State 0, Line 21\nThe UPDATE statement conflicted with the FOREIGN KEY constraint \"FK__diagnose__412EB0B6\". The conflict occurred in database \"alt\", table \"alt.icdo_location_version_description\".",
    "ename": "",
    "traceback": []
}, {
    "output_type": "display_data",
    "data": {
        "text/html": "The statement has been terminated."
    },
    "metadata": {}
}, {
    "output_type": "display_data",
    "data": {
        "text/html": "(4 rows affected)"
    },
    "metadata": {}
}, {
    "output_type": "display_data",
    "data": {
        "text/html": "The statement has been terminated."
    },
    "metadata": {}
}, {
    "output_type": "display_data",
    "data": {
        "text/html": "Total execution time: 00:00:01.043"
    },
    "metadata": {}
}, {
    "output_type": "execute_result",
    "metadata": {},
    "execution_count": 24,
    "data": {
        "application/vnd.dataresource+json": {
            "schema": {
                "fields": [
                    {
                        "name": "diagnose_id"
                    },
                    {
                        "name": "patient_id"
                    },
                    {
                        "name": "icd10_code"
                    },
                    {
                        "name": "icdo_version"
                    },
                    {
                        "name": "icdo_location_code"
                    }
                ]
            },
            "data": [
                {
                    "0": "1",
                    "1": "99",
                    "2": "d44",
                    "3": "2011",
                    "4": "C11"
                },
                {
                    "0": "2",
                    "1": "99",
                    "2": "d44",
                    "3": "2011",
                    "4": "C22.2"
                },
                {
                    "0": "3",
                    "1": "99",
                    "2": "d44",
                    "3": "2017",
                    "4": "C11"
                },
                {
                    "0": "4",
                    "1": "99",
                    "2": "d44",
                    "3": "2017",
                    "4": "C99.4"
                }
            ]
        },
        "text/html": [
            "<table>",
            "<tr><th>diagnose_id</th><th>patient_id</th><th>icd10_code</th><th>icdo_version</th><th>icdo_location_code</th></tr>",
            "<tr><td>1</td><td>99</td><td>d44</td><td>2011</td><td>C11</td></tr>",
            "<tr><td>2</td><td>99</td><td>d44</td><td>2011</td><td>C22.2</td></tr>",
            "<tr><td>3</td><td>99</td><td>d44</td><td>2017</td><td>C11</td></tr>",
            "<tr><td>4</td><td>99</td><td>d44</td><td>2017</td><td>C99.4</td></tr>",
            "</table>"
        ]
    }
}, {
    "output_type": "error",
    "evalue": "Msg 547, Level 16, State 0, Line 29\nThe INSERT statement conflicted with the FOREIGN KEY constraint \"FK__diagnose__412EB0B6\". The conflict occurred in database \"alt\", table \"alt.icdo_location_version_description\".",
    "ename": "",
    "traceback": []
}
],
            "execution_count": 51
        },
        {
            "cell_type": "markdown",
            "source": [
                "Hurray, all the attack were blocked! No one came through. Here is your reward: The Query that set up this war can now be safely delivered!"
            ],
            "metadata": {
                "azdata_cell_guid": "a44caf2c-7e8b-4cc9-a0e8-fef4542332d1"
            }
        },
        {
            "cell_type": "code",
            "source": [
                "select \n",
                "    d.patient_id, \n",
                "    d.icd10_code, d.icdo_location_code, ilvd.icdo_location_desc\n",
                "from alt.diagnose d\n",
                "    join alt.icdo_location_version_description as ilvd\n",
                "        on ilvd.icdo_version = d.icdo_version\n",
                "        and ilvd.icdo_location_code = d.icdo_location_code"
            ],
            "metadata": {
                "azdata_cell_guid": "9808a41e-26be-4fba-ac6f-e985164b854a",
                "tags": []
            },
            "outputs": [
{
    "output_type": "display_data",
    "data": {
        "text/html": "(4 rows affected)"
    },
    "metadata": {}
}, {
    "output_type": "display_data",
    "data": {
        "text/html": "Total execution time: 00:00:00.152"
    },
    "metadata": {}
}, {
    "output_type": "execute_result",
    "metadata": {},
    "execution_count": 11,
    "data": {
        "application/vnd.dataresource+json": {
            "schema": {
                "fields": [
                    {
                        "name": "patient_id"
                    },
                    {
                        "name": "icd10_code"
                    },
                    {
                        "name": "icdo_location_code"
                    },
                    {
                        "name": "icdo_location_desc"
                    }
                ]
            },
            "data": [
                {
                    "0": "99",
                    "1": "d44",
                    "2": "C11",
                    "3": "2011/C11  and blalbaetu"
                },
                {
                    "0": "99",
                    "1": "d44",
                    "2": "C22.2",
                    "3": "2011/C22.2  and blalbaetu"
                },
                {
                    "0": "99",
                    "1": "d44",
                    "2": "C11",
                    "3": "2017/C11  and blalbaetu"
                },
                {
                    "0": "99",
                    "1": "d44",
                    "2": "C99.4",
                    "3": "2017/C99.4  and blalbaetu"
                }
            ]
        },
        "text/html": [
            "<table>",
            "<tr><th>patient_id</th><th>icd10_code</th><th>icdo_location_code</th><th>icdo_location_desc</th></tr>",
            "<tr><td>99</td><td>d44</td><td>C11</td><td>2011/C11  and blalbaetu</td></tr>",
            "<tr><td>99</td><td>d44</td><td>C22.2</td><td>2011/C22.2  and blalbaetu</td></tr>",
            "<tr><td>99</td><td>d44</td><td>C11</td><td>2017/C11  and blalbaetu</td></tr>",
            "<tr><td>99</td><td>d44</td><td>C99.4</td><td>2017/C99.4  and blalbaetu</td></tr>",
            "</table>"
        ]
    }
}
],
            "execution_count": 52
        },
        {
            "cell_type": "markdown",
            "source": [
                ""
            ],
            "metadata": {
                "azdata_cell_guid": "49f25929-a2b9-4094-9d5a-ccc0f85adf67"
            }
        }
    ]
}