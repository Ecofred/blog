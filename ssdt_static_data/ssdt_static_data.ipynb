{
    "metadata": {
        "kernelspec": {
            "name": "SQL",
            "display_name": "SQL",
            "language": "sql"
        },
        "language_info": {
            "name": "sql",
            "version": ""
        }
    },
    "nbformat_minor": 2,
    "nbformat": 4,
    "cells": [
        {
            "cell_type": "markdown",
            "source": [
                "WARNING: WORK IN PROGRESS -- NOT THE FINAL VERSION\n",
                "  \n",
                "To insert data, we need the SQL object to contain it"
            ],
            "metadata": {
                "azdata_cell_guid": "63a9d70d-e9b0-4ca9-b3fc-9ca0af51925e"
            }
        },
        {
            "cell_type": "code",
            "source": [
                "USE master;\n",
                "GO\n",
                "DROP DATABASE IF EXISTS Stada;\n",
                "GO\n",
                "CREATE DATABASE Stada; -- for static data exemple\n",
                "GO\n",
                "USE Stada;\n",
                "GO"
            ],
            "metadata": {
                "azdata_cell_guid": "b89cba74-537f-4af3-88c6-cfbe2e1f3878"
            },
            "outputs": [
{
    "output_type": "display_data",
    "data": {
        "text/html": "Commands completed successfully."
    },
    "metadata": {}
}, {
    "output_type": "display_data",
    "data": {
        "text/html": "Commands completed successfully."
    },
    "metadata": {}
}, {
    "output_type": "display_data",
    "data": {
        "text/html": "Commands completed successfully."
    },
    "metadata": {}
}, {
    "output_type": "display_data",
    "data": {
        "text/html": "Commands completed successfully."
    },
    "metadata": {}
}, {
    "output_type": "display_data",
    "data": {
        "text/html": "Total execution time: 00:00:02.217"
    },
    "metadata": {}
}
],
            "execution_count": 7
        },
        {
            "cell_type": "code",
            "source": [
                "CREATE TABLE SuperData_V1Danger (\n",
                "    NiceKey UNIQUEIDENTIFIER PRIMARY KEY CLUSTERED DEFAULT (NEWID()),\n",
                "    ActivityCode VARCHAR(10) NOT NULL\n",
                ");\n",
                "GO\n",
                "\n",
                "INSERT INTO SuperData_V1Danger(ActivityCode)\n",
                "    VALUES ('goodcode');\n",
                "GO\n",
                "\n",
                "INSERT INTO SuperData_V1Danger(ActivityCode)\n",
                "    VALUEs ('badcoode');\n",
                "GO"
            ],
            "metadata": {
                "azdata_cell_guid": "816faeca-79ff-4d52-a51e-6731dbb192eb"
            },
            "outputs": [
{
    "output_type": "display_data",
    "data": {
        "text/html": "Commands completed successfully."
    },
    "metadata": {}
}, {
    "output_type": "display_data",
    "data": {
        "text/html": "(1 row affected)"
    },
    "metadata": {}
}, {
    "output_type": "display_data",
    "data": {
        "text/html": "(1 row affected)"
    },
    "metadata": {}
}, {
    "output_type": "display_data",
    "data": {
        "text/html": "Total execution time: 00:00:00.039"
    },
    "metadata": {}
}
],
            "execution_count": 8
        },
        {
            "cell_type": "markdown",
            "source": [
                "And now somebody polluted our mission critic data. let's protect that. We need to rely on correct value for the buisness data..."
            ],
            "metadata": {
                "azdata_cell_guid": "f009e6b9-cb00-4fc8-bb2a-3ad29a95b711"
            }
        },
        {
            "cell_type": "code",
            "source": [
                "CREATE TABLE Activity (\n",
                "    ActivityCode VARCHAR(10) NOT NULL PRIMARY KEY CLUSTERED,\n",
                "    ActivityDescr NVARCHAR(100) NOT NULL UNIQUE\n",
                ");\n",
                "GO\n",
                "\n",
                "CREATE TABLE SuperData_V2Reliable (\n",
                "    NiceKey UNIQUEIDENTIFIER PRIMARY KEY CLUSTERED DEFAULT (NEWID()),\n",
                "    ActivityCode VARCHAR(10) NOT NULL REFERENCES Activity(ActivityCode)\n",
                ")\n",
                "GO\n",
                "\n",
                "INSERT INTO SuperData_V2Reliable(ActivityCode)\n",
                "    VALUES ('goodcode');\n",
                "GO\n",
                "\n",
                "INSERT INTO SuperData_V2Reliable(ActivityCode)\n",
                "    VALUEs ('badcoode');\n",
                "GO"
            ],
            "metadata": {
                "azdata_cell_guid": "f23f2984-4fc3-411b-a67f-05b8d31e6972",
                "tags": []
            },
            "outputs": [
{
    "output_type": "display_data",
    "data": {
        "text/html": "Commands completed successfully."
    },
    "metadata": {}
}, {
    "output_type": "display_data",
    "data": {
        "text/html": "Commands completed successfully."
    },
    "metadata": {}
}, {
    "output_type": "error",
    "evalue": "Msg 547, Level 16, State 0, Line 13\nThe INSERT statement conflicted with the FOREIGN KEY constraint \"FK__SuperData__Activ__3D5E1FD2\". The conflict occurred in database \"Stada\", table \"dbo.Activity\", column 'ActivityCode'.",
    "ename": "",
    "traceback": []
}, {
    "output_type": "display_data",
    "data": {
        "text/html": "The statement has been terminated."
    },
    "metadata": {}
}, {
    "output_type": "error",
    "evalue": "Msg 547, Level 16, State 0, Line 17\nThe INSERT statement conflicted with the FOREIGN KEY constraint \"FK__SuperData__Activ__3D5E1FD2\". The conflict occurred in database \"Stada\", table \"dbo.Activity\", column 'ActivityCode'.",
    "ename": "",
    "traceback": []
}, {
    "output_type": "display_data",
    "data": {
        "text/html": "The statement has been terminated."
    },
    "metadata": {}
}, {
    "output_type": "display_data",
    "data": {
        "text/html": "Total execution time: 00:00:00.063"
    },
    "metadata": {}
}
],
            "execution_count": 10
        },
        {
            "cell_type": "code",
            "source": [
                "CREATE VIEW _RawActivity\n",
                "AS\n",
                "    SELECT\n",
                "        cast (Code as varchar(10)) as ActivityCode,\n",
                "        cast (Descr as nvarchar(100) ) as ActivityDescr\n",
                "    FROM ( VALUES\n",
                "            ('goodcode', 'a code we like to use'),\n",
                "            ('bettercode', 'our target goal we all cherish') \n",
                "         ) as x(Code,Descr);\n",
                "GO\n",
                "\n",
                "INSERT INTO Activity\n",
                "    (ActivityCode, ActivityDescr)\n",
                "SELECT ActivityCode, ActivityDescr\n",
                "FROM _RawActivity;\n",
                "GO\n",
                "\n",
                "INSERT INTO SuperData_V2Reliable(ActivityCode)\n",
                "    VALUES ('goodcode');\n",
                "GO\n",
                "INSERT INTO SuperData_V2Reliable(ActivityCode)\n",
                "    VALUEs ('badcoode');\n",
                "GO\n",
                ""\n",
                "\n",
                "select * from SuperData_V2Reliable
            ],
            "metadata": {
                "azdata_cell_guid": "daa10a20-7f1b-422e-b1ab-d3e536a007ec"
            },
            "outputs": [
{
    "output_type": "display_data",
    "data": {
        "text/html": "Commands completed successfully."
    },
    "metadata": {}
}, {
    "output_type": "display_data",
    "data": {
        "text/html": "(2 rows affected)"
    },
    "metadata": {}
}, {
    "output_type": "display_data",
    "data": {
        "text/html": "(1 row affected)"
    },
    "metadata": {}
}, {
    "output_type": "error",
    "evalue": "Msg 547, Level 16, State 0, Line 22\nThe INSERT statement conflicted with the FOREIGN KEY constraint \"FK__SuperData__Activ__3D5E1FD2\". The conflict occurred in database \"Stada\", table \"dbo.Activity\", column 'ActivityCode'.",
    "ename": "",
    "traceback": []
}, {
    "output_type": "display_data",
    "data": {
        "text/html": "The statement has been terminated."
    },
    "metadata": {}
}, {
    "output_type": "display_data",
    "data": {
        "text/html": "(1 row affected)"
    },
    "metadata": {}
}, {
    "output_type": "display_data",
    "data": {
        "text/html": "Total execution time: 00:00:00.062"
    },
    "metadata": {}
}, {
    "output_type": "execute_result",
    "metadata": {},
    "execution_count": 13,
    "data": {
        "application/vnd.dataresource+json": {
            "schema": {
                "fields": [
                    {
                        "name": "NiceKey"
                    },
                    {
                        "name": "ActivityCode"
                    }
                ]
            },
            "data": [
                {
                    "0": "9232bb37-59d4-438d-ad26-444ae71444ac",
                    "1": "goodcode"
                }
            ]
        },
        "text/html": [
            "<table>",
            "<tr><th>NiceKey</th><th>ActivityCode</th></tr>",
            "<tr><td>9232bb37-59d4-438d-ad26-444ae71444ac</td><td>goodcode</td></tr>",
            "</table>"
        ]
    }
}
],
            "execution_count": null
        },
        {
            "cell_type": "markdown",
            "source": [
                "We have integrity bu we can not state anything about our data"
            ],
            "metadata": {
                "azdata_cell_guid": "39730e81-55cb-4568-9fa1-477069b2ad77"
            }
        }
    ]
}